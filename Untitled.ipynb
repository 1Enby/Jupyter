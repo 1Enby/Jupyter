{
 "cells": [
  {
   "cell_type": "code",
   "execution_count": null,
   "id": "3619c12a",
   "metadata": {},
   "outputs": [],
   "source": [
    "import cv2\n",
    "  \n",
    "cam_port = 0\n",
    "cam = cv2.VideoCapture(cam_port)\n",
    "  \n",
    "# reading the input using the camera\n",
    "result, image = cam.read()\n",
    "  \n",
    "# If image will detected without any error, \n",
    "# show result\n",
    "if result:\n",
    "      # showing result, it take frame name and image \n",
    "    # output\n",
    "    cv2.imshow(\"Picture\", image)\n",
    "  \n",
    "    # saving image in local storage\n",
    "    cv2.imwrite(\"Picture.png\", image)\n",
    "  \n",
    "    # If keyboard interrupt occurs, destroy image \n",
    "    # window\n",
    "    cv2.waitKey(0)\n",
    "    cv2.destroyWindow(\"Picture\")\n",
    "  \n",
    "# If captured image is corrupted, moving to else part\n",
    "else:\n",
    "    print(\"No image detected. Please! try again\")"
   ]
  },
  {
   "cell_type": "code",
   "execution_count": null,
   "id": "6c1b3136",
   "metadata": {
    "scrolled": true
   },
   "outputs": [],
   "source": []
  },
  {
   "cell_type": "code",
   "execution_count": 1,
   "id": "bbcc5c22",
   "metadata": {},
   "outputs": [],
   "source": [
    "import cv2\n",
    "import numpy as np\n",
    "import urllib.request\n",
    "from PIL import Image\n",
    "  \n",
    "urllib.request.urlretrieve('https://media.geeksforgeeks.org/wp-content/uploads/20210318103632/gfg-300x300.png',\n",
    "   \"gfg.png\")\n",
    "urllib.request.urlretrieve('https://images.nationalgeographic.org/image/upload/v1638882947/EducationHub/photos/tourists-at-victoria-falls.jpg',\"gfg2.jpg\")\n",
    "urllib.request.urlretrieve('https://housing.com/news/wp-content/uploads/2022/11/How-to-Grow-Marigolds.png',\"gfg3.png\")\n",
    "urllib.request.urlretrieve('https://i.natgeofe.com/k/75ac774d-e6c7-44fa-b787-d0e20742f797/giant-panda-eating.jpg',\"gfg4.jpg\")\n",
    "urllib.request.urlretrieve('https://justfunfacts.com/wp-content/uploads/2020/05/valley.jpg',\"gfg5.jpg\")\n",
    "urllib.request.urlretrieve('https://news.harvard.edu/wp-content/uploads/2022/11/081022_Harvard_Forest_54-1200x800.jpg',\"gfg6.jpg\")\n",
    " \n",
    "img1 = Image.open(\"gfg.png\")\n",
    "img2 = Image.open(\"gfg2.jpg\")\n",
    "img3 = Image.open(\"gfg3.png\")\n",
    "img4 = Image.open(\"gfg4.jpg\")\n",
    "img5 = Image.open(\"gfg5.jpg\")\n",
    "img6 = Image.open(\"gfg6.jpg\")\n",
    "\n",
    "img1 = cv2.imread(\"gfg.png\")\n",
    "img2 = cv2.imread(\"gfg2.jpg\")\n",
    "img3 = cv2.imread(\"gfg3.png\")\n",
    "img4 = cv2.imread(\"gfg4.jpg\")\n",
    "img5 = cv2.imread(\"gfg5.jpg\")\n",
    "img6 = cv2.imread(\"gfg6.jpg\")\n",
    "\n",
    "img1 = cv2.resize(img1, (400,400))\n",
    "img2 = cv2.resize(img2, (400,400))\n",
    "img3 = cv2.resize(img3, (400,400))\n",
    "img4 = cv2.resize(img4, (400,400))\n",
    "img5 = cv2.resize(img5, (400,400))\n",
    "img6 = cv2.resize(img6, (400,400))\n",
    "    \n",
    "\n",
    "h_stack1 = np.hstack([img1,img2,img3])\n",
    "h_stack2 = np.hstack([img4,img5,img6])\n",
    "v_stack = np.vstack([h_stack1,h_stack2])\n",
    "\n",
    "cv2.imshow(\"grid\",v_stack)\n",
    "cv2.waitKey(0)\n",
    "cv2.destroyAllWindows()"
   ]
  },
  {
   "cell_type": "code",
   "execution_count": null,
   "id": "f3ceb172",
   "metadata": {},
   "outputs": [],
   "source": []
  },
  {
   "cell_type": "code",
   "execution_count": 3,
   "id": "c89f584d",
   "metadata": {
    "scrolled": false
   },
   "outputs": [],
   "source": [
    "import cv2\n",
    "import numpy as np\n",
    "\n",
    "img1 = cv2.imread(\"Tester photo.jpeg\")\n",
    "img2 = cv2.imread(\"Tester photo pt2.jpeg\")\n",
    "img3 = cv2.imread(\"Tester photo pt3.jpeg\")\n",
    "img4 = cv2.imread(\"Tester photo pt4.jpeg\")\n",
    "img5 = cv2.imread(\"Tester photo pt5.jpeg\")\n",
    "img6 = cv2.imread(\"Tester photo pt6.jpeg\")\n",
    "\n",
    "img1 = cv2.resize(img1, (400,400))\n",
    "img2 = cv2.resize(img2, (400,400))\n",
    "img3 = cv2.resize(img3, (400,400))\n",
    "img4 = cv2.resize(img4, (400,400))\n",
    "img5 = cv2.resize(img5, (400,400))\n",
    "img6 = cv2.resize(img6, (400,400))\n",
    "\n",
    "h_stack1 = np.hstack([img1,img2,img3])\n",
    "h_stack2 = np.hstack([img4,img5,img6])\n",
    "v_stack = np.vstack([h_stack1,h_stack2])\n",
    "\n",
    "cv2.imshow(\"grid\",v_stack)\n",
    "cv2.waitKey(0)\n",
    "cv2.destroyAllWindows()"
   ]
  },
  {
   "cell_type": "code",
   "execution_count": null,
   "id": "e787909f",
   "metadata": {},
   "outputs": [],
   "source": []
  },
  {
   "cell_type": "code",
   "execution_count": null,
   "id": "18eee65e",
   "metadata": {},
   "outputs": [],
   "source": []
  }
 ],
 "metadata": {
  "kernelspec": {
   "display_name": "Python 3 (ipykernel)",
   "language": "python",
   "name": "python3"
  },
  "language_info": {
   "codemirror_mode": {
    "name": "ipython",
    "version": 3
   },
   "file_extension": ".py",
   "mimetype": "text/x-python",
   "name": "python",
   "nbconvert_exporter": "python",
   "pygments_lexer": "ipython3",
   "version": "3.10.9"
  }
 },
 "nbformat": 4,
 "nbformat_minor": 5
}
